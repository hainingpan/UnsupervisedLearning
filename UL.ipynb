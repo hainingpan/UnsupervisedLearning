{
 "cells": [
  {
   "cell_type": "code",
   "execution_count": 1,
   "metadata": {},
   "outputs": [],
   "source": [
    "import numpy as np\n",
    "import matplotlib.pyplot as plt"
   ]
  },
  {
   "cell_type": "markdown",
   "metadata": {},
   "source": [
    "# Preprocessing"
   ]
  },
  {
   "cell_type": "markdown",
   "metadata": {},
   "source": [
    "## Import data set of 20 newsgroups"
   ]
  },
  {
   "cell_type": "code",
   "execution_count": 2,
   "metadata": {},
   "outputs": [],
   "source": [
    "from sklearn.datasets import fetch_20newsgroups"
   ]
  },
  {
   "cell_type": "code",
   "execution_count": 3,
   "metadata": {},
   "outputs": [],
   "source": [
    "groups=fetch_20newsgroups(subset='all',categories=['rec.sport.baseball','talk.politics.guns','comp.graphics','sci.med'])\n"
   ]
  },
  {
   "cell_type": "code",
   "execution_count": 4,
   "metadata": {},
   "outputs": [],
   "source": [
    "labels = groups.target"
   ]
  },
  {
   "cell_type": "code",
   "execution_count": 5,
   "metadata": {},
   "outputs": [],
   "source": [
    "label_names = groups.target_names"
   ]
  },
  {
   "cell_type": "markdown",
   "metadata": {},
   "source": [
    "## Import NLTK"
   ]
  },
  {
   "cell_type": "code",
   "execution_count": 6,
   "metadata": {},
   "outputs": [],
   "source": [
    "from nltk.corpus import names\n",
    "from nltk.stem import WordNetLemmatizer"
   ]
  },
  {
   "cell_type": "code",
   "execution_count": 7,
   "metadata": {},
   "outputs": [],
   "source": [
    "all_names = set(names.words())\n",
    "lemmatizer = WordNetLemmatizer()"
   ]
  },
  {
   "cell_type": "markdown",
   "metadata": {},
   "source": [
    "## clean data: lower, retain only alphabet, remove names, lemmatize"
   ]
  },
  {
   "cell_type": "code",
   "execution_count": 8,
   "metadata": {},
   "outputs": [],
   "source": [
    "data_cleaned=[]\n",
    "for doc in groups.data:\n",
    "    doc=doc.lower()\n",
    "    doc_cleaned=' '.join(lemmatizer.lemmatize(word) for word in doc.split() if word.isalpha() and word not in all_names)\n",
    "    data_cleaned.append(doc_cleaned)"
   ]
  },
  {
   "cell_type": "markdown",
   "metadata": {},
   "source": [
    "## TF-IDF"
   ]
  },
  {
   "cell_type": "code",
   "execution_count": 12,
   "metadata": {},
   "outputs": [],
   "source": [
    "from sklearn.feature_extraction.text import TfidfVectorizer"
   ]
  },
  {
   "cell_type": "code",
   "execution_count": 13,
   "metadata": {},
   "outputs": [],
   "source": [
    "tfidf_vector=TfidfVectorizer(stop_words='english',max_features=None,max_df=.5,min_df=2)\n",
    "data=tfidf_vector.fit_transform(data_cleaned)"
   ]
  },
  {
   "cell_type": "markdown",
   "metadata": {},
   "source": [
    "# Check what each clusters contains"
   ]
  },
  {
   "cell_type": "code",
   "execution_count": null,
   "metadata": {},
   "outputs": [],
   "source": [
    "from sklearn.neighbors import NearestCentroid\n",
    "from collections import Counter"
   ]
  },
  {
   "cell_type": "code",
   "execution_count": null,
   "metadata": {},
   "outputs": [],
   "source": [
    "def print_each_clusters(model):\n",
    "    clusters=model.labels_\n",
    "    if 'n_clusters' in model.get_params():\n",
    "        k=model.get_params()['n_clusters']\n",
    "    else:\n",
    "        #DBSCAN\n",
    "        k=np.unique(model.labels_).shape[0]\n",
    "    cluster_label={i:labels[np.where(clusters==i)] for i in range(k)}\n",
    "    terms=np.array(tfidf_vector.get_feature_names_out())\n",
    "    if hasattr(model, 'cluster_centers'):\n",
    "        centroids=model.cluster_centers_\n",
    "    else:\n",
    "        #Agglomerative\n",
    "        clf=NearestCentroid()\n",
    "        clf.fit(data,clusters)\n",
    "        centroids=clf.centroids_\n",
    "    for cluster,index_list in cluster_label.items():\n",
    "        counter=Counter(cluster_label[cluster])\n",
    "        print('cluster_{}: {} samples'.format(cluster,len(index_list)))\n",
    "        \n",
    "        print('Top Keywords: {}'.format('/'.join(terms[centroids[cluster].argsort()[-10:][::-1]])))\n",
    "        for label_index, count in sorted(counter.items(), key=lambda x: x[1],reverse=True):\n",
    "            print('\\t{}: {} samples'.format(label_names[label_index],count))\n"
   ]
  },
  {
   "cell_type": "markdown",
   "metadata": {},
   "source": [
    "# Clustering"
   ]
  },
  {
   "cell_type": "markdown",
   "metadata": {},
   "source": [
    "## Kmeans"
   ]
  },
  {
   "cell_type": "code",
   "execution_count": 140,
   "metadata": {},
   "outputs": [],
   "source": [
    "from sklearn.cluster import KMeans\n",
    "from sklearn.metrics import silhouette_score\n"
   ]
  },
  {
   "cell_type": "code",
   "execution_count": 141,
   "metadata": {},
   "outputs": [],
   "source": [
    "k_list=np.arange(2,11)\n",
    "kmeans={k:KMeans(n_clusters=k,n_init=20,random_state=0) for k in k_list}"
   ]
  },
  {
   "cell_type": "code",
   "execution_count": 142,
   "metadata": {},
   "outputs": [
    {
     "name": "stdout",
     "output_type": "stream",
     "text": [
      "10"
     ]
    }
   ],
   "source": [
    "for k,model in kmeans.items():\n",
    "    print('\\r{}'.format(k),end='',flush=True)\n",
    "    model.fit(data)"
   ]
  },
  {
   "cell_type": "code",
   "execution_count": 164,
   "metadata": {},
   "outputs": [
    {
     "data": {
      "image/png": "[encoded data removed]",
      "text/plain": [
       "<Figure size 288x216 with 2 Axes>"
      ]
     },
     "metadata": {
      "needs_background": "light"
     },
     "output_type": "display_data"
    }
   ],
   "source": [
    "fig,ax=plt.subplots(tight_layout=True,figsize=(4,3))\n",
    "ax.plot(k_list,[silhouette_score(data,km.labels_) for km in kmeans.values()],'.-',color='b')\n",
    "ax.set_ylabel('Silhouette Score',color='b')\n",
    "ax.tick_params(axis='y',labelcolor='b')\n",
    "\n",
    "\n",
    "ax1=ax.twinx()\n",
    "ax1.plot(k_list,[km.inertia_ for km in kmeans.values()],'.-',color='r')\n",
    "ax.set_xlabel('Number of clusters') \n",
    "ax1.set_ylabel('Inertia',color='r')\n",
    "ax1.tick_params(axis='y',labelcolor='r')\n",
    "\n"
   ]
  },
  {
   "cell_type": "code",
   "execution_count": 144,
   "metadata": {},
   "outputs": [
    {
     "name": "stdout",
     "output_type": "stream",
     "text": [
      "cluster_0: 698 samples\n",
      "Top Keywords: gun/wa/people/fbi/government/article/atf/right/law/batf\n",
      "\ttalk.politics.guns: 697 samples\n",
      "\tsci.med: 1 samples\n",
      "cluster_1: 751 samples\n",
      "Top Keywords: game/team/wa/player/baseball/article/hit/win/pitcher/brave\n",
      "\trec.sport.baseball: 750 samples\n",
      "\ttalk.politics.guns: 1 samples\n",
      "cluster_2: 670 samples\n",
      "Top Keywords: graphic/image/file/program/format/need/university/looking/know/bit\n",
      "\tcomp.graphics: 660 samples\n",
      "\tsci.med: 8 samples\n",
      "\trec.sport.baseball: 2 samples\n",
      "cluster_3: 1748 samples\n",
      "Top Keywords: wa/article/university/ha/know/like/just/doe/medical/computer\n",
      "\tsci.med: 981 samples\n",
      "\tcomp.graphics: 313 samples\n",
      "\trec.sport.baseball: 242 samples\n",
      "\ttalk.politics.guns: 212 samples\n"
     ]
    }
   ],
   "source": [
    "print_each_clusters(kmeans[4])"
   ]
  },
  {
   "cell_type": "code",
   "execution_count": 145,
   "metadata": {},
   "outputs": [
    {
     "name": "stdout",
     "output_type": "stream",
     "text": [
      "cluster_0: 382 samples\n",
      "Top Keywords: wa/fbi/atf/batf/government/waco/burn/dividian/article/people\n",
      "\ttalk.politics.guns: 381 samples\n",
      "\tsci.med: 1 samples\n",
      "cluster_1: 706 samples\n",
      "Top Keywords: game/team/wa/player/baseball/hit/article/pitcher/brave/win\n",
      "\trec.sport.baseball: 705 samples\n",
      "\tsci.med: 1 samples\n",
      "cluster_2: 1435 samples\n",
      "Top Keywords: university/wa/article/know/doe/just/ha/like/thanks/computer\n",
      "\tcomp.graphics: 537 samples\n",
      "\tsci.med: 402 samples\n",
      "\trec.sport.baseball: 289 samples\n",
      "\ttalk.politics.guns: 207 samples\n",
      "cluster_3: 317 samples\n",
      "Top Keywords: gun/people/firearm/right/law/weapon/wa/like/article/criminal\n",
      "\ttalk.politics.guns: 317 samples\n",
      "cluster_4: 439 samples\n",
      "Top Keywords: image/graphic/file/program/format/bit/color/need/computer/display\n",
      "\tcomp.graphics: 435 samples\n",
      "\tsci.med: 4 samples\n",
      "cluster_5: 58 samples\n",
      "Top Keywords: msg/food/sensitivity/chinese/restaurant/reaction/eat/allergic/people/effect\n",
      "\tsci.med: 58 samples\n",
      "cluster_6: 455 samples\n",
      "Top Keywords: doctor/ha/wa/medical/patient/disease/pain/yeast/article/drug\n",
      "\tsci.med: 449 samples\n",
      "\ttalk.politics.guns: 5 samples\n",
      "\tcomp.graphics: 1 samples\n",
      "cluster_7: 75 samples\n",
      "Top Keywords: shameful/chastity/surrender/gordon/bank/pittsburgh/science/computer/article/lyme\n",
      "\tsci.med: 75 samples\n"
     ]
    }
   ],
   "source": [
    "print_each_clusters(kmeans[8])"
   ]
  },
  {
   "cell_type": "markdown",
   "metadata": {},
   "source": [
    "## Agglomerative Clustering"
   ]
  },
  {
   "cell_type": "code",
   "execution_count": 15,
   "metadata": {},
   "outputs": [],
   "source": [
    "from sklearn.cluster import AgglomerativeClustering\n"
   ]
  },
  {
   "cell_type": "code",
   "execution_count": 50,
   "metadata": {},
   "outputs": [],
   "source": [
    "k_list=np.arange(2,10)\n",
    "agg_cluster={k:AgglomerativeClustering(n_clusters=k,compute_full_tree=True,memory='cache') for k in k_list}"
   ]
  },
  {
   "cell_type": "code",
   "execution_count": 51,
   "metadata": {},
   "outputs": [
    {
     "name": "stdout",
     "output_type": "stream",
     "text": [
      "3"
     ]
    },
    {
     "name": "stderr",
     "output_type": "stream",
     "text": [
      "/home/jake/anaconda3/lib/python3.8/site-packages/sklearn/cluster/_agglomerative.py:1001: UserWarning: Persisting input arguments took 0.71s to run.\n",
      "If this happens often in your code, it can cause performance problems \n",
      "(results will be correct in all cases). \n",
      "The reason for this is probably some large input arguments for a wrapped\n",
      " function (e.g. large strings).\n",
      "THIS IS A JOBLIB ISSUE. If you can, kindly provide the joblib's team with an\n",
      " example so that they can fix the problem.\n",
      "  out = memory.cache(tree_builder)(\n"
     ]
    },
    {
     "name": "stdout",
     "output_type": "stream",
     "text": [
      "9"
     ]
    }
   ],
   "source": [
    "for k, model in agg_cluster.items():\n",
    "    print('\\r{}'.format(k),end='',flush=True)\n",
    "    model.fit(data.toarray())"
   ]
  },
  {
   "cell_type": "code",
   "execution_count": 52,
   "metadata": {},
   "outputs": [
    {
     "data": {
      "image/png": "[encoded data removed]",
      "text/plain": [
       "<Figure size 288x216 with 1 Axes>"
      ]
     },
     "metadata": {
      "needs_background": "light"
     },
     "output_type": "display_data"
    }
   ],
   "source": [
    "fig,ax=plt.subplots(tight_layout=True,figsize=(4,3))\n",
    "ax.plot(k_list,[silhouette_score(data,model.labels_)  for model in agg_cluster.values()],'.-',color='b')\n",
    "ax.set_xlabel('Number of clusters') \n",
    "ax.set_ylabel('Silhouette Score',color='b')\n",
    "\n",
    "ax.tick_params(axis='y',labelcolor='b')"
   ]
  },
  {
   "cell_type": "code",
   "execution_count": 163,
   "metadata": {},
   "outputs": [
    {
     "name": "stdout",
     "output_type": "stream",
     "text": [
      "cluster_0: 839 samples\n",
      "Top Keywords: game/wa/team/player/baseball/article/hit/ha/win/think\n",
      "\trec.sport.baseball: 815 samples\n",
      "\tsci.med: 13 samples\n",
      "\tcomp.graphics: 6 samples\n",
      "\ttalk.politics.guns: 5 samples\n",
      "cluster_1: 791 samples\n",
      "Top Keywords: gun/wa/people/fbi/article/government/right/atf/like/law\n",
      "\ttalk.politics.guns: 772 samples\n",
      "\tcomp.graphics: 9 samples\n",
      "\tsci.med: 6 samples\n",
      "\trec.sport.baseball: 4 samples\n",
      "cluster_2: 1416 samples\n",
      "Top Keywords: wa/article/university/ha/know/medical/science/like/doe/computer\n",
      "\tsci.med: 896 samples\n",
      "\tcomp.graphics: 227 samples\n",
      "\trec.sport.baseball: 166 samples\n",
      "\ttalk.politics.guns: 127 samples\n",
      "cluster_3: 58 samples\n",
      "Top Keywords: msg/food/sensitivity/chinese/restaurant/allergic/eat/reaction/people/flavor\n",
      "\tsci.med: 58 samples\n",
      "cluster_4: 763 samples\n",
      "Top Keywords: graphic/image/file/program/university/need/format/computer/know/bit\n",
      "\tcomp.graphics: 731 samples\n",
      "\tsci.med: 17 samples\n",
      "\trec.sport.baseball: 9 samples\n",
      "\ttalk.politics.guns: 6 samples\n"
     ]
    }
   ],
   "source": [
    "print_each_clusters(agg_cluster[5])"
   ]
  },
  {
   "cell_type": "code",
   "execution_count": 57,
   "metadata": {},
   "outputs": [
    {
     "name": "stdout",
     "output_type": "stream",
     "text": [
      "cluster_0: 791 samples\n",
      "Top Keywords: gun/wa/people/fbi/article/government/right/atf/like/law\n",
      "\ttalk.politics.guns: 772 samples\n",
      "\tcomp.graphics: 9 samples\n",
      "\tsci.med: 6 samples\n",
      "\trec.sport.baseball: 4 samples\n",
      "cluster_1: 763 samples\n",
      "Top Keywords: graphic/image/file/program/university/need/format/computer/know/bit\n",
      "\tcomp.graphics: 731 samples\n",
      "\tsci.med: 17 samples\n",
      "\trec.sport.baseball: 9 samples\n",
      "\ttalk.politics.guns: 6 samples\n",
      "cluster_2: 1416 samples\n",
      "Top Keywords: wa/article/university/ha/know/medical/science/like/doe/computer\n",
      "\tsci.med: 896 samples\n",
      "\tcomp.graphics: 227 samples\n",
      "\trec.sport.baseball: 166 samples\n",
      "\ttalk.politics.guns: 127 samples\n",
      "cluster_3: 58 samples\n",
      "Top Keywords: msg/food/sensitivity/chinese/restaurant/allergic/eat/reaction/people/flavor\n",
      "\tsci.med: 58 samples\n",
      "cluster_4: 803 samples\n",
      "Top Keywords: game/team/wa/player/article/hit/baseball/ha/win/brave\n",
      "\trec.sport.baseball: 779 samples\n",
      "\tsci.med: 13 samples\n",
      "\tcomp.graphics: 6 samples\n",
      "\ttalk.politics.guns: 5 samples\n",
      "cluster_5: 36 samples\n",
      "Top Keywords: jewish/baseball/come/hank/sandy/racking/lame/john/wa/article\n",
      "\trec.sport.baseball: 36 samples\n"
     ]
    }
   ],
   "source": [
    "print_each_clusters(agg_cluster[6])"
   ]
  },
  {
   "cell_type": "markdown",
   "metadata": {},
   "source": [
    "## DBSCAN"
   ]
  },
  {
   "cell_type": "code",
   "execution_count": 65,
   "metadata": {},
   "outputs": [],
   "source": [
    "from sklearn.model_selection import GridSearchCV"
   ]
  },
  {
   "cell_type": "code",
   "execution_count": 127,
   "metadata": {},
   "outputs": [],
   "source": [
    "eps_list=np.arange(.5,1.5,.1)\n",
    "min_samples_list=np.arange(2,15)"
   ]
  },
  {
   "cell_type": "code",
   "execution_count": 112,
   "metadata": {},
   "outputs": [],
   "source": [
    "def scoring_silhouette(estimator,X):\n",
    "    estimator.fit(X)\n",
    "    cluster_labels=estimator.labels_\n",
    "    if np.unique(cluster_labels).shape[0]>=2:\n",
    "        return silhouette_score(data,cluster_labels)\n",
    "    else:\n",
    "        return 0"
   ]
  },
  {
   "cell_type": "code",
   "execution_count": 113,
   "metadata": {},
   "outputs": [],
   "source": [
    "search=GridSearchCV(DBSCAN(),{'eps':eps_list,'min_samples':min_samples_list},n_jobs=-1,verbose=3,cv=[(slice(None),slice(None))],scoring=scoring_silhouette)"
   ]
  },
  {
   "cell_type": "code",
   "execution_count": 114,
   "metadata": {},
   "outputs": [
    {
     "name": "stdout",
     "output_type": "stream",
     "text": [
      "Fitting 1 folds for each of 130 candidates, totalling 130 fits\n",
      "[CV 1/1] END ............eps=0.5, min_samples=9;, score=0.000 total time=   2.7s\n",
      "[CV 1/1] END ............eps=0.5, min_samples=8;, score=0.000 total time=   3.6s\n",
      "[CV 1/1] END ............eps=0.5, min_samples=7;, score=0.003 total time=   4.0s\n",
      "[CV 1/1] END ...........eps=0.5, min_samples=3;, score=-0.020 total time=   4.4s\n",
      "[CV 1/1] END ............eps=0.5, min_samples=4;, score=0.003 total time=   4.6s\n",
      "[CV 1/1] END ...........eps=0.5, min_samples=2;, score=-0.033 total time=   4.6s\n",
      "[CV 1/1] END ............eps=0.5, min_samples=6;, score=0.003 total time=   4.9s\n",
      "[CV 1/1] END ............eps=0.5, min_samples=5;, score=0.003 total time=   6.4s\n",
      "[CV 1/1] END ...........eps=0.5, min_samples=10;, score=0.000 total time=   4.1s\n",
      "[CV 1/1] END ...........eps=0.5, min_samples=13;, score=0.000 total time=   3.2s\n",
      "[CV 1/1] END ...........eps=0.5, min_samples=11;, score=0.000 total time=   3.8s\n",
      "[CV 1/1] END ...........eps=0.5, min_samples=14;, score=0.000 total time=   3.3s\n",
      "[CV 1/1] END ...........eps=0.5, min_samples=12;, score=0.000 total time=   3.6s\n",
      "[CV 1/1] END ...........eps=0.6, min_samples=2;, score=-0.022 total time=   5.2s\n",
      "[CV 1/1] END ...........eps=0.6, min_samples=3;, score=-0.026 total time=   5.8s\n",
      "[CV 1/1] END ............eps=0.6, min_samples=9;, score=0.000 total time=   3.4s\n",
      "[CV 1/1] END ............eps=0.6, min_samples=8;, score=0.000 total time=   3.6s\n",
      "[CV 1/1] END ...........eps=0.6, min_samples=4;, score=-0.012 total time=   5.7s\n",
      "[CV 1/1] END ............eps=0.6, min_samples=5;, score=0.003 total time=   5.9s\n",
      "[CV 1/1] END ...........eps=0.6, min_samples=10;, score=0.000 total time=   3.1s\n",
      "[CV 1/1] END ............eps=0.6, min_samples=6;, score=0.003 total time=   5.5s\n",
      "[CV 1/1] END ............eps=0.6, min_samples=7;, score=0.003 total time=   5.5s\n",
      "[CV 1/1] END ...........eps=0.6, min_samples=11;, score=0.000 total time=   3.0s\n",
      "[CV 1/1] END ...........eps=0.6, min_samples=13;, score=0.000 total time=   3.1s\n",
      "[CV 1/1] END ...........eps=0.6, min_samples=12;, score=0.000 total time=   3.4s\n",
      "[CV 1/1] END ...........eps=0.6, min_samples=14;, score=0.000 total time=   3.3s\n",
      "[CV 1/1] END ...........eps=0.7, min_samples=2;, score=-0.002 total time=   4.8s\n",
      "[CV 1/1] END ...........eps=0.7, min_samples=3;, score=-0.028 total time=   5.0s\n",
      "[CV 1/1] END ............eps=0.7, min_samples=8;, score=0.000 total time=   3.1s\n",
      "[CV 1/1] END ...........eps=0.7, min_samples=4;, score=-0.019 total time=   5.1s\n",
      "[CV 1/1] END ...........eps=0.7, min_samples=5;, score=-0.005 total time=   5.0s\n",
      "[CV 1/1] END ............eps=0.7, min_samples=9;, score=0.000 total time=   3.0s\n",
      "[CV 1/1] END ............eps=0.7, min_samples=6;, score=0.003 total time=   5.2s\n",
      "[CV 1/1] END ............eps=0.7, min_samples=7;, score=0.003 total time=   5.0s\n",
      "[CV 1/1] END ...........eps=0.7, min_samples=10;, score=0.000 total time=   3.1s\n",
      "[CV 1/1] END ...........eps=0.7, min_samples=11;, score=0.000 total time=   3.0s\n",
      "[CV 1/1] END ...........eps=0.7, min_samples=13;, score=0.000 total time=   3.0s\n",
      "[CV 1/1] END ...........eps=0.7, min_samples=12;, score=0.000 total time=   3.4s\n",
      "[CV 1/1] END ...........eps=0.7, min_samples=14;, score=0.000 total time=   3.1s\n",
      "[CV 1/1] END eps=0.7999999999999999, min_samples=2;, score=0.035 total time=   5.0s\n",
      "[CV 1/1] END eps=0.7999999999999999, min_samples=3;, score=-0.017 total time=   5.3s\n",
      "[CV 1/1] END eps=0.7999999999999999, min_samples=9;, score=0.000 total time=   3.1s\n",
      "[CV 1/1] END eps=0.7999999999999999, min_samples=4;, score=-0.021 total time=   5.4s\n",
      "[CV 1/1] END eps=0.7999999999999999, min_samples=8;, score=0.000 total time=   3.6s\n",
      "[CV 1/1] END eps=0.7999999999999999, min_samples=5;, score=-0.013 total time=   5.2s\n",
      "[CV 1/1] END eps=0.7999999999999999, min_samples=6;, score=-0.011 total time=   5.2s\n",
      "[CV 1/1] END eps=0.7999999999999999, min_samples=7;, score=-0.006 total time=   4.9s\n",
      "[CV 1/1] END eps=0.7999999999999999, min_samples=10;, score=0.000 total time=   3.4s\n",
      "[CV 1/1] END eps=0.7999999999999999, min_samples=11;, score=0.000 total time=   3.1s\n",
      "[CV 1/1] END eps=0.7999999999999999, min_samples=12;, score=0.000 total time=   3.2s\n",
      "[CV 1/1] END eps=0.7999999999999999, min_samples=14;, score=0.000 total time=   3.5s\n",
      "[CV 1/1] END eps=0.7999999999999999, min_samples=13;, score=0.000 total time=   3.8s\n",
      "[CV 1/1] END eps=0.8999999999999999, min_samples=4;, score=-0.015 total time=   5.1s\n",
      "[CV 1/1] END eps=0.8999999999999999, min_samples=2;, score=0.073 total time=   5.6s\n",
      "[CV 1/1] END eps=0.8999999999999999, min_samples=3;, score=0.003 total time=   5.6s\n",
      "[CV 1/1] END eps=0.8999999999999999, min_samples=7;, score=-0.011 total time=   5.1s\n",
      "[CV 1/1] END eps=0.8999999999999999, min_samples=6;, score=-0.011 total time=   5.8s\n",
      "[CV 1/1] END eps=0.8999999999999999, min_samples=5;, score=-0.013 total time=   6.7s\n",
      "[CV 1/1] END eps=0.8999999999999999, min_samples=9;, score=-0.006 total time=   5.7s\n",
      "[CV 1/1] END eps=0.8999999999999999, min_samples=8;, score=-0.008 total time=   6.2s\n",
      "[CV 1/1] END eps=0.8999999999999999, min_samples=11;, score=0.000 total time=   3.3s\n",
      "[CV 1/1] END eps=0.8999999999999999, min_samples=12;, score=0.000 total time=   3.6s\n",
      "[CV 1/1] END eps=0.8999999999999999, min_samples=13;, score=0.000 total time=   3.7s\n",
      "[CV 1/1] END eps=0.8999999999999999, min_samples=14;, score=0.000 total time=   3.7s\n",
      "[CV 1/1] END eps=0.8999999999999999, min_samples=10;, score=-0.001 total time=   5.8s\n",
      "[CV 1/1] END eps=0.9999999999999999, min_samples=2;, score=0.101 total time=   6.2s\n",
      "[CV 1/1] END eps=0.9999999999999999, min_samples=4;, score=-0.000 total time=   5.8s\n",
      "[CV 1/1] END eps=0.9999999999999999, min_samples=3;, score=0.031 total time=   6.1s\n",
      "[CV 1/1] END eps=0.9999999999999999, min_samples=5;, score=-0.013 total time=   5.9s\n",
      "[CV 1/1] END eps=0.9999999999999999, min_samples=6;, score=-0.013 total time=   6.4s\n",
      "[CV 1/1] END eps=0.9999999999999999, min_samples=8;, score=-0.009 total time=   5.7s\n",
      "[CV 1/1] END eps=0.9999999999999999, min_samples=7;, score=-0.010 total time=   6.1s\n",
      "[CV 1/1] END eps=0.9999999999999999, min_samples=9;, score=-0.008 total time=   6.2s\n",
      "[CV 1/1] END eps=0.9999999999999999, min_samples=10;, score=-0.006 total time=   5.5s\n",
      "[CV 1/1] END eps=0.9999999999999999, min_samples=14;, score=0.000 total time=   3.6s\n",
      "[CV 1/1] END eps=0.9999999999999999, min_samples=11;, score=-0.006 total time=   5.1s\n",
      "[CV 1/1] END eps=0.9999999999999999, min_samples=13;, score=-0.002 total time=   5.0s\n",
      "[CV 1/1] END eps=0.9999999999999999, min_samples=12;, score=-0.002 total time=   6.2s\n",
      "[CV 1/1] END eps=1.0999999999999999, min_samples=2;, score=0.101 total time=   6.3s\n",
      "[CV 1/1] END eps=1.0999999999999999, min_samples=4;, score=0.023 total time=   5.6s\n",
      "[CV 1/1] END eps=1.0999999999999999, min_samples=3;, score=0.050 total time=   6.2s\n",
      "[CV 1/1] END eps=1.0999999999999999, min_samples=6;, score=-0.001 total time=   5.4s\n",
      "[CV 1/1] END eps=1.0999999999999999, min_samples=5;, score=0.007 total time=   5.6s\n",
      "[CV 1/1] END eps=1.0999999999999999, min_samples=7;, score=-0.007 total time=   5.9s\n",
      "[CV 1/1] END eps=1.0999999999999999, min_samples=8;, score=-0.010 total time=   5.7s\n",
      "[CV 1/1] END eps=1.0999999999999999, min_samples=9;, score=-0.009 total time=   6.6s\n",
      "[CV 1/1] END eps=1.0999999999999999, min_samples=10;, score=-0.007 total time=   5.3s\n",
      "[CV 1/1] END eps=1.0999999999999999, min_samples=11;, score=-0.006 total time=   6.0s\n",
      "[CV 1/1] END eps=1.0999999999999999, min_samples=12;, score=-0.007 total time=   6.0s\n",
      "[CV 1/1] END eps=1.0999999999999999, min_samples=13;, score=-0.003 total time=   5.6s\n",
      "[CV 1/1] END eps=1.0999999999999999, min_samples=14;, score=-0.002 total time=   5.5s\n",
      "[CV 1/1] END eps=1.1999999999999997, min_samples=2;, score=0.027 total time=   6.1s\n",
      "[CV 1/1] END eps=1.1999999999999997, min_samples=3;, score=0.007 total time=   6.1s\n",
      "[CV 1/1] END eps=1.1999999999999997, min_samples=4;, score=0.002 total time=   5.6s\n",
      "[CV 1/1] END eps=1.1999999999999997, min_samples=5;, score=-0.002 total time=   5.7s\n",
      "[CV 1/1] END eps=1.1999999999999997, min_samples=7;, score=-0.001 total time=   5.9s\n",
      "[CV 1/1] END eps=1.1999999999999997, min_samples=6;, score=-0.000 total time=   6.2s\n",
      "[CV 1/1] END eps=1.1999999999999997, min_samples=9;, score=-0.003 total time=   5.4s\n",
      "[CV 1/1] END eps=1.1999999999999997, min_samples=8;, score=-0.000 total time=   6.3s\n",
      "[CV 1/1] END eps=1.1999999999999997, min_samples=11;, score=-0.001 total time=   6.1s\n",
      "[CV 1/1] END eps=1.1999999999999997, min_samples=10;, score=-0.002 total time=   6.3s\n",
      "[CV 1/1] END eps=1.1999999999999997, min_samples=12;, score=-0.001 total time=   6.5s\n",
      "[CV 1/1] END eps=1.1999999999999997, min_samples=13;, score=-0.000 total time=   6.2s\n",
      "[CV 1/1] END eps=1.1999999999999997, min_samples=14;, score=-0.001 total time=   6.5s\n",
      "[CV 1/1] END eps=1.2999999999999998, min_samples=2;, score=-0.007 total time=   6.3s\n",
      "[CV 1/1] END eps=1.2999999999999998, min_samples=3;, score=0.000 total time=   7.1s\n",
      "[CV 1/1] END eps=1.2999999999999998, min_samples=4;, score=0.001 total time=   6.3s\n",
      "[CV 1/1] END eps=1.2999999999999998, min_samples=6;, score=0.002 total time=   6.8s\n",
      "[CV 1/1] END eps=1.2999999999999998, min_samples=5;, score=0.000 total time=   7.2s\n",
      "[CV 1/1] END eps=1.2999999999999998, min_samples=7;, score=0.002 total time=   6.7s\n",
      "[CV 1/1] END eps=1.2999999999999998, min_samples=8;, score=0.002 total time=   6.0s\n",
      "[CV 1/1] END eps=1.2999999999999998, min_samples=10;, score=0.002 total time=   7.1s\n",
      "[CV 1/1] END eps=1.2999999999999998, min_samples=12;, score=-0.002 total time=   6.1s\n",
      "[CV 1/1] END eps=1.2999999999999998, min_samples=11;, score=-0.001 total time=   6.2s\n",
      "[CV 1/1] END eps=1.2999999999999998, min_samples=9;, score=0.002 total time=   7.9s\n",
      "[CV 1/1] END ............eps=1.4, min_samples=3;, score=0.000 total time=   4.0s\n",
      "[CV 1/1] END ............eps=1.4, min_samples=2;, score=0.000 total time=   4.4s\n",
      "[CV 1/1] END eps=1.2999999999999998, min_samples=13;, score=-0.001 total time=   6.3s\n",
      "[CV 1/1] END eps=1.2999999999999998, min_samples=14;, score=-0.002 total time=   6.4s\n",
      "[CV 1/1] END ............eps=1.4, min_samples=4;, score=0.000 total time=   3.9s\n",
      "[CV 1/1] END ............eps=1.4, min_samples=6;, score=0.000 total time=   4.0s\n",
      "[CV 1/1] END ............eps=1.4, min_samples=7;, score=0.000 total time=   4.0s\n",
      "[CV 1/1] END ............eps=1.4, min_samples=5;, score=0.000 total time=   4.1s\n",
      "[CV 1/1] END ............eps=1.4, min_samples=8;, score=0.000 total time=   3.5s\n",
      "[CV 1/1] END ............eps=1.4, min_samples=9;, score=0.000 total time=   3.4s\n",
      "[CV 1/1] END ...........eps=1.4, min_samples=10;, score=0.000 total time=   3.7s\n",
      "[CV 1/1] END ...........eps=1.4, min_samples=11;, score=0.000 total time=   3.7s\n",
      "[CV 1/1] END ...........eps=1.4, min_samples=12;, score=0.000 total time=   3.2s\n",
      "[CV 1/1] END ...........eps=1.4, min_samples=13;, score=0.000 total time=   2.7s\n",
      "[CV 1/1] END ...........eps=1.4, min_samples=14;, score=0.000 total time=   2.7s\n"
     ]
    },
    {
     "data": {
      "text/plain": [
       "GridSearchCV(cv=[(slice(None, None, None), slice(None, None, None))],\n",
       "             estimator=DBSCAN(), n_jobs=-1,\n",
       "             param_grid={'eps': array([0.5, 0.6, 0.7, 0.8, 0.9, 1. , 1.1, 1.2, 1.3, 1.4]),\n",
       "                         'min_samples': array([ 2,  3,  4,  5,  6,  7,  8,  9, 10, 11, 12, 13, 14])},\n",
       "             scoring=<function scoring_silhouette at 0x7f635232f430>,\n",
       "             verbose=3)"
      ]
     },
     "execution_count": 114,
     "metadata": {},
     "output_type": "execute_result"
    }
   ],
   "source": [
    "search.fit(data)"
   ]
  },
  {
   "cell_type": "code",
   "execution_count": 128,
   "metadata": {},
   "outputs": [
    {
     "data": {
      "text/plain": [
       "<matplotlib.collections.PathCollection at 0x7f63521fb190>"
      ]
     },
     "execution_count": 128,
     "metadata": {},
     "output_type": "execute_result"
    },
    {
     "data": {
      "image/png": "[encoded data removed]",
      "text/plain": [
       "<Figure size 432x288 with 2 Axes>"
      ]
     },
     "metadata": {
      "needs_background": "light"
     },
     "output_type": "display_data"
    }
   ],
   "source": [
    "plt.pcolormesh(eps_list,min_samples_list,search.cv_results_['mean_test_score'].reshape((eps_list.shape[0],min_samples_list.shape[0])).T,shading='auto')\n",
    "plt.colorbar()\n",
    "plt.xlabel('epsilon')\n",
    "plt.ylabel('min_samples')\n",
    "\n",
    "plt.scatter(eps_candidate,min_samples_candidate,1,'r')"
   ]
  },
  {
   "cell_type": "code",
   "execution_count": 125,
   "metadata": {},
   "outputs": [],
   "source": [
    "eps_candidate=[]\n",
    "min_samples_candidate=[]\n",
    "for params in np.array(search.cv_results_['params'])[search.cv_results_['mean_test_score']>0]:\n",
    "    eps_candidate.append(params['eps'])\n",
    "    min_samples_candidate.append(params['min_samples'])\n"
   ]
  },
  {
   "cell_type": "code",
   "execution_count": 129,
   "metadata": {},
   "outputs": [],
   "source": [
    "dbscan=[DBSCAN(eps=eps,min_samples=min_samples) for eps, min_samples in zip(eps_candidate,min_samples_candidate)]"
   ]
  },
  {
   "cell_type": "code",
   "execution_count": 130,
   "metadata": {},
   "outputs": [
    {
     "name": "stdout",
     "output_type": "stream",
     "text": [
      "28"
     ]
    }
   ],
   "source": [
    "for idx, model in enumerate(dbscan):\n",
    "    print('\\r{}'.format(idx),end='',flush=True)\n",
    "    model.fit(data)"
   ]
  },
  {
   "cell_type": "code",
   "execution_count": 172,
   "metadata": {},
   "outputs": [],
   "source": [
    "ss=[silhouette_score(data,model.labels_) for model in dbscan]"
   ]
  },
  {
   "cell_type": "code",
   "execution_count": 180,
   "metadata": {},
   "outputs": [
    {
     "name": "stdout",
     "output_type": "stream",
     "text": [
      "0.0028 0.0028 0.0028 0.0028 0.0028 0.0028 0.0028 0.0028 0.0028 0.0346 0.0731 0.0028 0.1008 0.0307 0.1013 0.0498 0.0235 0.0070 0.0274 0.0071 0.0023 0.0004 0.0007 0.0003 0.0020 0.0020 0.0020 0.0020 0.0020\n"
     ]
    }
   ],
   "source": [
    "print(' '.join(('{:.4f}'.format(ss)) for ss in ss))"
   ]
  },
  {
   "cell_type": "code",
   "execution_count": 133,
   "metadata": {},
   "outputs": [],
   "source": [
    "num_cluster=[np.unique(model.labels_).shape[0] for model in dbscan]"
   ]
  },
  {
   "cell_type": "code",
   "execution_count": 166,
   "metadata": {},
   "outputs": [
    {
     "name": "stdout",
     "output_type": "stream",
     "text": [
      "[2, 2, 2, 2, 2, 2, 2, 2, 2, 423, 564, 175, 651, 273, 619, 314, 181, 102, 334, 150, 104, 6, 5, 4, 2, 2, 2, 2, 2]\n"
     ]
    }
   ],
   "source": [
    "print(num_cluster)"
   ]
  },
  {
   "cell_type": "code",
   "execution_count": 135,
   "metadata": {},
   "outputs": [
    {
     "data": {
      "text/plain": [
       "[23, 22, 21]"
      ]
     },
     "execution_count": 135,
     "metadata": {},
     "output_type": "execute_result"
    }
   ],
   "source": [
    "[num_cluster.index(i) for i in [4,5,6]]"
   ]
  },
  {
   "cell_type": "code",
   "execution_count": 136,
   "metadata": {},
   "outputs": [
    {
     "name": "stdout",
     "output_type": "stream",
     "text": [
      "cluster_0: 3754 samples\n",
      "Top Keywords: wa/ha/world/like/university/heard/research/article/similar/japanese\n",
      "\trec.sport.baseball: 984 samples\n",
      "\tcomp.graphics: 953 samples\n",
      "\tsci.med: 930 samples\n",
      "\ttalk.politics.guns: 887 samples\n",
      "cluster_1: 4 samples\n",
      "Top Keywords: wa/article/university/ha/like/know/just/think/people/gun\n",
      "\tsci.med: 4 samples\n",
      "cluster_2: 5 samples\n",
      "Top Keywords: leung/drink/ng/ho/lactose/intolerance/experiencing/milk/ton/hardly\n",
      "\tsci.med: 5 samples\n",
      "cluster_3: 3 samples\n",
      "Top Keywords: centipede/millipede/posionous/pes/bitten/liable/clarification/know/concerted/soon\n",
      "\tcomp.graphics: 3 samples\n",
      "cluster_4: 3 samples\n",
      "Top Keywords: playmation/retail/ren/hitchhiking/kenbaer/anjon/hash/sell/scn/marino\n",
      "\tsci.med: 3 samples\n",
      "cluster_5: 0 samples\n",
      "Top Keywords: acetaminophen/hepatic/mg/deadly/protein/toxicity/metabolism/hcl/succinate/dextromethorphan\n"
     ]
    }
   ],
   "source": [
    "print_each_clusters(dbscan[21])"
   ]
  },
  {
   "cell_type": "code",
   "execution_count": 137,
   "metadata": {},
   "outputs": [
    {
     "name": "stdout",
     "output_type": "stream",
     "text": [
      "cluster_0: 3725 samples\n",
      "Top Keywords: wa/ha/world/like/university/article/research/playmation/know/information\n",
      "\trec.sport.baseball: 979 samples\n",
      "\tcomp.graphics: 948 samples\n",
      "\tsci.med: 918 samples\n",
      "\ttalk.politics.guns: 880 samples\n",
      "cluster_1: 4 samples\n",
      "Top Keywords: wa/article/university/ha/like/know/just/think/people/gun\n",
      "\tsci.med: 4 samples\n",
      "cluster_2: 4 samples\n",
      "Top Keywords: leung/drink/ng/ho/lactose/intolerance/experiencing/milk/ton/hardly\n",
      "\tsci.med: 4 samples\n",
      "cluster_3: 5 samples\n",
      "Top Keywords: acne/oily/face/teenage/skin/wash/son/clearasil/dalacin/nose\n",
      "\tsci.med: 5 samples\n",
      "cluster_4: 0 samples\n",
      "Top Keywords: centipede/millipede/posionous/pes/bitten/liable/clarification/know/concerted/soon\n"
     ]
    }
   ],
   "source": [
    "print_each_clusters(dbscan[22])"
   ]
  },
  {
   "cell_type": "code",
   "execution_count": 138,
   "metadata": {},
   "outputs": [
    {
     "name": "stdout",
     "output_type": "stream",
     "text": [
      "cluster_0: 3698 samples\n",
      "Top Keywords: wa/ha/university/article/world/like/information/think/know/leung\n",
      "\trec.sport.baseball: 976 samples\n",
      "\tcomp.graphics: 945 samples\n",
      "\tsci.med: 902 samples\n",
      "\ttalk.politics.guns: 875 samples\n",
      "cluster_1: 5 samples\n",
      "Top Keywords: wa/article/university/ha/like/know/just/think/people/gun\n",
      "\tsci.med: 5 samples\n",
      "cluster_2: 4 samples\n",
      "Top Keywords: centipede/millipede/posionous/pes/bitten/liable/clarification/know/concerted/soon\n",
      "\tsci.med: 4 samples\n",
      "cluster_3: 0 samples\n",
      "Top Keywords: altitude/city/feel/travel/faint/dehydrating/caffeine/comfortable/ensure/lot\n"
     ]
    }
   ],
   "source": [
    "print_each_clusters(dbscan[23])"
   ]
  },
  {
   "cell_type": "markdown",
   "metadata": {},
   "source": [
    "Therefore, DBSCAN does not apply here"
   ]
  },
  {
   "cell_type": "markdown",
   "metadata": {},
   "source": [
    "# Evaluation "
   ]
  },
  {
   "cell_type": "code",
   "execution_count": 146,
   "metadata": {},
   "outputs": [],
   "source": [
    "from sklearn.metrics import adjusted_rand_score"
   ]
  },
  {
   "cell_type": "code",
   "execution_count": 148,
   "metadata": {},
   "outputs": [
    {
     "data": {
      "text/plain": [
       "0.5006725028801597"
      ]
     },
     "execution_count": 148,
     "metadata": {},
     "output_type": "execute_result"
    }
   ],
   "source": [
    "adjusted_rand_score(labels,kmeans[4].labels_)"
   ]
  },
  {
   "cell_type": "code",
   "execution_count": 161,
   "metadata": {},
   "outputs": [
    {
     "data": {
      "text/plain": [
       "{4: 0.5006725028801597,\n",
       " 5: 0.43271915320260496,\n",
       " 6: 0.4333240778850958,\n",
       " 7: 0.38252284408240195,\n",
       " 8: 0.341547889469863}"
      ]
     },
     "execution_count": 161,
     "metadata": {},
     "output_type": "execute_result"
    }
   ],
   "source": [
    "{idx:adjusted_rand_score(labels,kmeans[idx].labels_) for idx in range(4,9)}"
   ]
  },
  {
   "cell_type": "code",
   "execution_count": 162,
   "metadata": {},
   "outputs": [
    {
     "data": {
      "text/plain": [
       "{4: 0.4544532866399254,\n",
       " 5: 0.6015570850695279,\n",
       " 6: 0.5899341335663643,\n",
       " 7: 0.5552643421385994,\n",
       " 8: 0.5453292912899739}"
      ]
     },
     "execution_count": 162,
     "metadata": {},
     "output_type": "execute_result"
    }
   ],
   "source": [
    "{idx:adjusted_rand_score(labels,agg_cluster[idx].labels_) for idx in range(4,9)}"
   ]
  },
  {
   "cell_type": "code",
   "execution_count": 181,
   "metadata": {},
   "outputs": [
    {
     "data": {
      "text/plain": [
       "{21: 0.00026352020971267995,\n",
       " 22: 0.00038390580944541974,\n",
       " 23: 0.0007234387860883634}"
      ]
     },
     "execution_count": 181,
     "metadata": {},
     "output_type": "execute_result"
    }
   ],
   "source": [
    "{idx:adjusted_rand_score(labels,dbscan[idx].labels_) for idx in range(21,24)}"
   ]
  },
  {
   "cell_type": "code",
   "execution_count": null,
   "metadata": {},
   "outputs": [],
   "source": []
  }
 ],
 "metadata": {
  "kernelspec": {
   "display_name": "Python 3.8.11 ('base')",
   "language": "python",
   "name": "python3"
  },
  "language_info": {
   "codemirror_mode": {
    "name": "ipython",
    "version": 3
   },
   "file_extension": ".py",
   "mimetype": "text/x-python",
   "name": "python",
   "nbconvert_exporter": "python",
   "pygments_lexer": "ipython3",
   "version": "3.8.11"
  },
  "orig_nbformat": 4,
  "vscode": {
   "interpreter": {
    "hash": "8763e5ea16b716ad1eeffeab5f34109bd722594d0305e114e3d37565ed57b2a4"
   }
  }
 },
 "nbformat": 4,
 "nbformat_minor": 2
}
